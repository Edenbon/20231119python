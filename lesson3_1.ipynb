{
 "cells": [
  {
   "cell_type": "code",
   "execution_count": 1,
   "metadata": {},
   "outputs": [
    {
     "name": "stdout",
     "output_type": "stream",
     "text": [
      "Hello Everybody!\n"
     ]
    }
   ],
   "source": [
    "print(\"Hello Everybody!\")"
   ]
  },
  {
   "cell_type": "code",
   "execution_count": 4,
   "metadata": {},
   "outputs": [
    {
     "name": "stdout",
     "output_type": "stream",
     "text": [
      "[0, 5, 9, 14]平均是7, [5, 6, 8, 9]平均是7\n",
      "[0, 5, 9, 14]標準差是5.94418483337567, [5, 6, 8, 9]標準差是1.8257418583505538\n"
     ]
    }
   ],
   "source": [
    "import statistics\n",
    "\n",
    "mean1 = statistics.mean([0, 5, 9, 14])\n",
    "mean2 = statistics.mean([5, 6, 8, 9])\n",
    "std1 = statistics.stdev([0, 5, 9, 14])\n",
    "std2 = statistics.stdev([5, 6, 8, 9])\n",
    "print(f'[0, 5, 9, 14]平均是{mean1}, [5, 6, 8, 9]平均是{mean2}')\n",
    "print(f'[0, 5, 9, 14]標準差是{std1}, [5, 6, 8, 9]標準差是{std2}')"
   ]
  },
  {
   "cell_type": "code",
   "execution_count": 1,
   "metadata": {},
   "outputs": [
    {
     "name": "stdout",
     "output_type": "stream",
     "text": [
      "AGE = 23\n",
      "超香\n",
      "over\n"
     ]
    }
   ],
   "source": [
    "age = 23\n",
    "print(f'AGE = {age}')\n",
    "if age >= 18:\n",
    "    print('超香')\n",
    "else:\n",
    "    print('安堆')\n",
    "\n",
    "print(\"over\")"
   ]
  },
  {
   "cell_type": "code",
   "execution_count": 2,
   "metadata": {},
   "outputs": [
    {
     "name": "stdout",
     "output_type": "stream",
     "text": [
      "學生分數:300\n"
     ]
    }
   ],
   "source": [
    "score = int(input(\"請輸入分數\"))\n",
    "if score <= 300:\n",
    "    is_add = input(\"學生是否符合加分條件(y/n)\")\n",
    "\n",
    "    if is_add == \"y\":\n",
    "        score *= 1.05\n",
    "        if score > 300:\n",
    "            score = 300\n",
    "    print(f'學生分數:{score}')\n",
    "else:\n",
    "    print(\"輸入錯誤\")\n",
    "\n"
   ]
  },
  {
   "cell_type": "code",
   "execution_count": 4,
   "metadata": {},
   "outputs": [
    {
     "name": "stdout",
     "output_type": "stream",
     "text": [
      "L\n"
     ]
    }
   ],
   "source": [
    "try:\n",
    "    money = int(input(\"請輸入金額:\"))\n",
    "    print(money)\n",
    "except ValueError as err:\n",
    "    print(f\"vale L:{err}\")\n",
    "except TypeError as exp:\n",
    "    print(f'type L: {exp}')\n",
    "except:\n",
    "    print('error')\n",
    "else:\n",
    "    print(f\"金額為{money}\")"
   ]
  },
  {
   "cell_type": "code",
   "execution_count": null,
   "metadata": {},
   "outputs": [],
   "source": [
    "#學生總分為300\n",
    "#有些學生可以加分5%\n",
    "#如果加分完超過300,就以300分為準\n",
    "#輸入超過300分,出現警告\n",
    "#巢狀判斷\n",
    "try:\n",
    "    scores = int(input(\"請輸入學生分數(最高300分):\"))    \n",
    "except ValueError as err:\n",
    "    print(f\"輸入錯誤{err}\")\n",
    "except TypeError as err:\n",
    "    print(f\"類型錯誤{err}\")\n",
    "except:\n",
    "    print(\"不知名的錯誤\")\n",
    "else:\n",
    "    if scores <= 300:\n",
    "        is_add = input(\"學生是否符合加分條件?(y,n)\")\n",
    "\n",
    "        #巢狀判斷\n",
    "        if is_add == \"y\":\n",
    "            scores *= 1.05\n",
    "            if scores > 300:\n",
    "                scores = 300\n",
    "\n",
    "        print(f\"學生分數是:{scores}\")\n",
    "    else:\n",
    "        print(\"輸入錯誤\")"
   ]
  },
  {
   "cell_type": "code",
   "execution_count": 2,
   "metadata": {},
   "outputs": [
    {
     "data": {
      "text/plain": [
       "5"
      ]
     },
     "execution_count": 2,
     "metadata": {},
     "output_type": "execute_result"
    }
   ],
   "source": [
    "import pyinputplus as pyip\n",
    "\n",
    "result = pyip.inputNum(min=4, max=6)\n",
    "result"
   ]
  },
  {
   "cell_type": "code",
   "execution_count": 4,
   "metadata": {},
   "outputs": [
    {
     "name": "stdout",
     "output_type": "stream",
     "text": [
      "請輸入學生分數(最高300分):'a' is not a number.\n",
      "請輸入學生分數(最高300分):'a' is not a number.\n",
      "請輸入學生分數(最高300分):101\n",
      "學生是否符合加分條件?(y,n)學生分數是:106.05000000000001\n"
     ]
    }
   ],
   "source": [
    "scores = pyip.inputNum(prompt='請輸入學生分數(最高300分):',min=0, max=300)\n",
    "print(scores)\n",
    "is_add = pyip.inputYesNo(\"學生是否符合加分條件?(y,n)\",yesVal='y',noVal='n',blank=True,default='n')\n",
    "#巢狀判斷\n",
    "if is_add == \"y\":\n",
    "    scores *= 1.05\n",
    "    if scores > 300:\n",
    "        scores = 300\n",
    "\n",
    "print(f\"學生分數是:{scores}\")"
   ]
  },
  {
   "cell_type": "code",
   "execution_count": null,
   "metadata": {},
   "outputs": [],
   "source": [
    "#查function的功能\n",
    "help(pyip.inputNum)\n",
    "\n",
    "#查module有那些function\n",
    "help(pyip)"
   ]
  },
  {
   "cell_type": "code",
   "execution_count": 9,
   "metadata": {},
   "outputs": [
    {
     "name": "stdout",
     "output_type": "stream",
     "text": [
      "請輸入學生分數(0-100):Number must be at maximum 100.\n",
      "請輸入學生分數(0-100):'aaa' is not a number.\n",
      "請輸入學生分數(0-100):Number must be at minimum 0.\n",
      "請輸入學生分數(0-100):85\n",
      "優\n"
     ]
    }
   ],
   "source": [
    "#請輸入學生分數(0~100):\n",
    "#0~60,不及格\n",
    "#60~80,及格\n",
    "#80~100,優\n",
    "#檢查超出範圍,格式\n",
    "import pyinputplus as pyip\n",
    "\n",
    "score = pyip.inputNum(prompt='請輸入學生分數(0-100):', min=0, max=100)\n",
    "print(score)\n",
    "\n",
    "if score < 60:    \n",
    "    print(\"不及格\")\n",
    "elif score < 80:\n",
    "    print(\"及格\")\n",
    "else:\n",
    "    print(\"優\")\n"
   ]
  },
  {
   "cell_type": "code",
   "execution_count": 4,
   "metadata": {},
   "outputs": [
    {
     "name": "stdout",
     "output_type": "stream",
     "text": [
      "分數必須在 0 到 100 之間。\n",
      "請輸入一個有效的數字。\n",
      "分數必須在 0 到 100 之間。\n",
      "不及格\n"
     ]
    }
   ],
   "source": [
    "def evaluate_score():\n",
    "    while True:\n",
    "        try:\n",
    "            score = float(input(\"請輸入學生分數 (0-100): \"))\n",
    "            if 0 <= score <= 100:\n",
    "                if score < 60:\n",
    "                    return \"不及格\"\n",
    "                elif score < 80:\n",
    "                    return \"及格\"\n",
    "                else:\n",
    "                    return \"優\"\n",
    "            else:\n",
    "                print(\"分數必須在 0 到 100 之間。\")\n",
    "        except ValueError:\n",
    "            print(\"請輸入一個有效的數字。\")\n",
    "\n",
    "result = evaluate_score()\n",
    "print(result) \n"
   ]
  },
  {
   "cell_type": "code",
   "execution_count": 14,
   "metadata": {},
   "outputs": [
    {
     "name": "stdout",
     "output_type": "stream",
     "text": [
      "請輸入購買金額:Number must be at minimum 0.\n",
      "請輸入購買金額:3\n",
      "實付金額是 3 元\n"
     ]
    }
   ],
   "source": [
    "import pyinputplus as pyip\n",
    "\n",
    "amount = pyip.inputInt(\"請輸入購買金額:\", min = 0)\n",
    "print(amount)\n",
    "\n",
    "match(amount):\n",
    "    case amount if amount >= 100000:\n",
    "        amount = amount * 0.8\n",
    "    case amount if amount >= 50000:\n",
    "        amount = amount * 0.85\n",
    "    case amount if amount >= 30000:\n",
    "        amount = amount * 0.9\n",
    "    case amount if amount >= 10000:\n",
    "        amount = amount * 0.95\n",
    "    case _:\n",
    "        amount\n",
    "        \n",
    "print(f'實付金額是 {amount} 元')"
   ]
  },
  {
   "cell_type": "code",
   "execution_count": 13,
   "metadata": {},
   "outputs": [
    {
     "name": "stdout",
     "output_type": "stream",
     "text": [
      "請輸入收縮壓:1\n",
      "請輸入舒張壓:1\n",
      "suggestion = 正常\n"
     ]
    }
   ],
   "source": [
    "import pyinputplus as pyip\n",
    "\n",
    "sbp = pyip.inputInt(\"請輸入收縮壓:\", min= 0)\n",
    "print(sbp)\n",
    "dbp = pyip.inputInt(\"請輸入舒張壓:\", min= 0)\n",
    "print(dbp)\n",
    "\n",
    "if  sbp < 120 and dbp < 80:\n",
    "    suggestion = '正常'\n",
    "elif 120 <= sbp <= 129 and dbp < 80:\n",
    "    suggestion = '血壓升高'\n",
    "elif 130 <= sbp and dbp < 80:\n",
    "    suggestion = '單純收縮期高血壓'\n",
    "elif 130 <= sbp <= 139 or 80 <= dbp <= 89:\n",
    "    suggestion = '高血壓一期'\n",
    "elif 140 <= sbp or 90 <= dbp:\n",
    "    suggestion = '高血壓二期'\n",
    "else:\n",
    "    suggestion = '未知區間'\n",
    "\n",
    "print(f'suggestion = {suggestion}')\n"
   ]
  }
 ],
 "metadata": {
  "kernelspec": {
   "display_name": "Python 3",
   "language": "python",
   "name": "python3"
  },
  "language_info": {
   "codemirror_mode": {
    "name": "ipython",
    "version": 3
   },
   "file_extension": ".py",
   "mimetype": "text/x-python",
   "name": "python",
   "nbconvert_exporter": "python",
   "pygments_lexer": "ipython3",
   "version": "3.10.13"
  }
 },
 "nbformat": 4,
 "nbformat_minor": 2
}
