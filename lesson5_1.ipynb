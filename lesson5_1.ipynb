{
 "cells": [
  {
   "cell_type": "code",
   "execution_count": 4,
   "metadata": {},
   "outputs": [
    {
     "name": "stdout",
     "output_type": "stream",
     "text": [
      "請輸入年齡:普遍級\n"
     ]
    }
   ],
   "source": [
    "import pyinputplus as pyip\n",
    "\n",
    "#限制級：18歲或以上皆可欣賞。\n",
    "#輔導級：13(含) ~ 17歲以上皆可欣賞。\n",
    "#普遍級：12(含)歲以下皆可欣賞。\n",
    "#如果沒有輸入年齡預設為普遍級。\n",
    "\n",
    "age = pyip.inputInt(\"請輸入年齡:\",max=100,min=0,blank=True)\n",
    "\n",
    "if age == \"\":\n",
    "    print(\"普遍級\")\n",
    "elif age >= 18:\n",
    "    print(\"限制級\")\n",
    "elif age >= 13:\n",
    "    print(\"輔導級\")\n",
    "else:\n",
    "    print(\"普遍級\")\n"
   ]
  },
  {
   "cell_type": "code",
   "execution_count": 6,
   "metadata": {},
   "outputs": [
    {
     "name": "stdout",
     "output_type": "stream",
     "text": [
      "y/n:yes\n",
      "Yes\n"
     ]
    }
   ],
   "source": [
    "is_yes = pyip.inputYesNo(\"y/n:\")\n",
    "print(is_yes)\n",
    "\n",
    "if not (is_yes == \"yes\"):\n",
    "    print(\"No\")\n",
    "else:\n",
    "    print(\"Yes\")"
   ]
  },
  {
   "cell_type": "code",
   "execution_count": null,
   "metadata": {},
   "outputs": [],
   "source": [
    "#國文100,同時數學100,獎金1000\n",
    "#國文100,或者數學100,獎金500\n",
    "#其它獎金0\n",
    "\n",
    "chinese = pyip.inputInt(\"請輸入國文分數:\",min=0,max=100)\n",
    "print(chinese)\n",
    "math = pyip.inputInt(\"請輸入數學分數:\",min=0,max=100)\n",
    "print(math)\n",
    "bonus = 0\n",
    "\n",
    "#巢狀判斷\n",
    "if chinese == 100:\n",
    "    if math == 100:\n",
    "        bonus = 1000\n",
    "    else:\n",
    "        bonus = 500\n",
    "elif math == 100:\n",
    "    bonus = 500\n",
    "\n",
    "print(f\"獎金:{bonus}\")"
   ]
  },
  {
   "cell_type": "code",
   "execution_count": 16,
   "metadata": {},
   "outputs": [
    {
     "name": "stdout",
     "output_type": "stream",
     "text": [
      "請輸入國文分數:100\n",
      "請輸入數學分數:50\n",
      "獎金:500\n"
     ]
    }
   ],
   "source": [
    "#國文100,同時數學100,獎金1000\n",
    "#國文100,或者數學100,獎金500\n",
    "#其它獎金0\n",
    "\n",
    "chinese = pyip.inputInt(\"請輸入國文分數:\",min=0,max=100)\n",
    "print(chinese)\n",
    "math = pyip.inputInt(\"請輸入數學分數:\",min=0,max=100)\n",
    "print(math)\n",
    "bonus = 0\n",
    "\n",
    "#巢狀判斷\n",
    "if chinese == 100 and math == 100:\n",
    "    bonus = 1000        \n",
    "elif chinese == 100 or math == 100:\n",
    "    bonus = 500\n",
    "\n",
    "print(f\"獎金:{bonus}\")"
   ]
  },
  {
   "cell_type": "code",
   "execution_count": 17,
   "metadata": {},
   "outputs": [
    {
     "name": "stdout",
     "output_type": "stream",
     "text": [
      "1..1000的總合是:500500\n"
     ]
    }
   ],
   "source": [
    "value = 0\n",
    "for i in range(1,1001):\n",
    "    value += i\n",
    "\n",
    "print(f\"1..1000的總合是:{value}\")"
   ]
  },
  {
   "cell_type": "code",
   "execution_count": 18,
   "metadata": {},
   "outputs": [
    {
     "name": "stdout",
     "output_type": "stream",
     "text": [
      "請輸入起始值:(0以上)39\n",
      "請輸入結束值:10000以下3939\n",
      "39..3939的總合是:7759089\n"
     ]
    }
   ],
   "source": [
    "import pyinputplus as pyip\n",
    "start = pyip.inputInt(\"請輸入起始值:(0以上)\",min=0,max=10000)\n",
    "print(start)\n",
    "end = pyip.inputInt(\"請輸入結束值:10000以下\",min=1,max=10000)\n",
    "print(end)\n",
    "\n",
    "value = 0\n",
    "for i in range(start,end+1):\n",
    "    value += i\n",
    "\n",
    "print(f\"{start}..{end}的總合是:{value}\")"
   ]
  },
  {
   "cell_type": "code",
   "execution_count": 13,
   "metadata": {},
   "outputs": [
    {
     "name": "stdout",
     "output_type": "stream",
     "text": [
      "1 * 1 = 1  1 * 2 = 2  1 * 3 = 3  1 * 4 = 4  1 * 5 = 5  1 * 6 = 6  1 * 7 = 7  1 * 8 = 8  1 * 9 = 9  \n",
      "2 * 1 = 2  2 * 2 = 4  2 * 3 = 6  2 * 4 = 8  2 * 5 =10  2 * 6 =12  2 * 7 =14  2 * 8 =16  2 * 9 =18  \n",
      "3 * 1 = 3  3 * 2 = 6  3 * 3 = 9  3 * 4 =12  3 * 5 =15  3 * 6 =18  3 * 7 =21  3 * 8 =24  3 * 9 =27  \n",
      "4 * 1 = 4  4 * 2 = 8  4 * 3 =12  4 * 4 =16  4 * 5 =20  4 * 6 =24  4 * 7 =28  4 * 8 =32  4 * 9 =36  \n",
      "5 * 1 = 5  5 * 2 =10  5 * 3 =15  5 * 4 =20  5 * 5 =25  5 * 6 =30  5 * 7 =35  5 * 8 =40  5 * 9 =45  \n",
      "6 * 1 = 6  6 * 2 =12  6 * 3 =18  6 * 4 =24  6 * 5 =30  6 * 6 =36  6 * 7 =42  6 * 8 =48  6 * 9 =54  \n",
      "7 * 1 = 7  7 * 2 =14  7 * 3 =21  7 * 4 =28  7 * 5 =35  7 * 6 =42  7 * 7 =49  7 * 8 =56  7 * 9 =63  \n",
      "8 * 1 = 8  8 * 2 =16  8 * 3 =24  8 * 4 =32  8 * 5 =40  8 * 6 =48  8 * 7 =56  8 * 8 =64  8 * 9 =72  \n",
      "9 * 1 = 9  9 * 2 =18  9 * 3 =27  9 * 4 =36  9 * 5 =45  9 * 6 =54  9 * 7 =63  9 * 8 =72  9 * 9 =81  \n"
     ]
    }
   ],
   "source": [
    "for i in range(1, 10):\n",
    "    for j in range(1, 10):\n",
    "        print(f'{i:<2}*{j:2} ={i*j:2}', end='  ')\n",
    "    print()"
   ]
  },
  {
   "cell_type": "code",
   "execution_count": 12,
   "metadata": {},
   "outputs": [
    {
     "data": {
      "text/plain": [
       "55"
      ]
     },
     "execution_count": 12,
     "metadata": {},
     "output_type": "execute_result"
    }
   ],
   "source": [
    "#while迴圈明確知道執行的次數\n",
    "value = 0\n",
    "i = 1\n",
    "while i<=10:\n",
    "    value += i\n",
    "    i += 1\n",
    "value"
   ]
  },
  {
   "cell_type": "code",
   "execution_count": null,
   "metadata": {},
   "outputs": [],
   "source": [
    "#小明想要存錢買一輛機車,機車每輛30000元，他將每月存的錢輸入，當存款足夠買機車時，就顯示提示訊息告知。\n",
    "#不知道執行的次數\n",
    "import pyinputplus as pyip\n",
    "\n",
    "num = 0\n",
    "deposit = 0\n",
    "while(deposit < 30000):\n",
    "    num += 1\n",
    "    month_value = pyip.inputInt(f\"請輸第{num}月份的存款:\")\n",
    "    print(month_value)\n",
    "    deposit += month_value\n",
    "\n",
    "print(f\"恭喜!已經存夠了,共存了{num}月,總存款為{deposit}\")"
   ]
  },
  {
   "cell_type": "code",
   "execution_count": null,
   "metadata": {},
   "outputs": [],
   "source": [
    "#小美是一位教師，請你以while迴圈方式為小美設計一個輸入成績的程式，如果輸入負數表示成績輸入結束，在輸入成績結束後顯示班上總成績及平均成績。\n",
    "inputValue = 0\n",
    "sum = 0\n",
    "while(inputValue >= 0):    \n",
    "    inputValue = pyip.inputInt(\"請輸入學生成績:\")\n",
    "    print(inputValue)\n",
    "    if inputValue >= 0:\n",
    "        sum += inputValue\n",
    "print(f\"學生總分為:{sum}\")"
   ]
  },
  {
   "cell_type": "code",
   "execution_count": null,
   "metadata": {},
   "outputs": [],
   "source": [
    "#小美是一位教師，請你以while迴圈方式為小美設計一個輸入成績的程式，如果輸入負數表示成績輸入結束，在輸入成績結束後顯示班上總成績及平均成績。\n",
    "\n",
    "sum = 0\n",
    "num = 0\n",
    "while(True):    \n",
    "    inputValue = pyip.inputInt(\"請輸入學生成績:\")\n",
    "    print(inputValue)       \n",
    "    if inputValue < 0:\n",
    "        break\n",
    "    \n",
    "    num += 1 \n",
    "    sum += inputValue\n",
    "\n",
    "print(f\"學生總分為:{sum},學生平均為:{sum/num}\")"
   ]
  },
  {
   "cell_type": "code",
   "execution_count": null,
   "metadata": {},
   "outputs": [],
   "source": [
    "#顯示:\n",
    "#奇數輸出平方\n",
    "#偶數不做任何動作\n",
    "#'q'要離開\n",
    "while(True):\n",
    "    value = input(\"請輸入整數,輸入[q]離開:\")\n",
    "    if value == 'q':\n",
    "        break\n",
    "    valueInt = int(value)\n",
    "    if (valueInt % 2) == 1:\n",
    "        print(valueInt ** 2)\n",
    "\n",
    "print(\"應用程式結束\")"
   ]
  },
  {
   "cell_type": "code",
   "execution_count": null,
   "metadata": {},
   "outputs": [],
   "source": [
    "import random\n",
    "min = 1\n",
    "max = 100\n",
    "randomNum = random.randint(min, max)\n",
    "randomNum"
   ]
  },
  {
   "cell_type": "code",
   "execution_count": 1,
   "metadata": {},
   "outputs": [
    {
     "name": "stdout",
     "output_type": "stream",
     "text": [
      "Hello! Python!\n",
      "Hello! Python!\n",
      "Hello! Python!\n"
     ]
    }
   ],
   "source": [
    "#建立一個function\n",
    "#沒有參數,沒有傳出值的function\n",
    "def sayHello():\n",
    "    print(\"Hello! Python!\")\n",
    "\n",
    "sayHello()\n",
    "sayHello()\n",
    "sayHello()"
   ]
  },
  {
   "cell_type": "code",
   "execution_count": null,
   "metadata": {},
   "outputs": [],
   "source": [
    "def sayHello(name,age):\n",
    "    if age<18:\n",
    "        alias = \"少年\"\n",
    "    elif age < 30:\n",
    "        alias = \"中年\"\n",
    "    elif age < 50:\n",
    "        alias = \"壯年\"\n",
    "    else:\n",
    "        alias = \"老年\"\n",
    "    \n",
    "    print(f'Hello! {alias}:{name}!')\n",
    "\n",
    "#引數值的呼叫要依順序\n",
    "sayHello(\"徐國堂\",13)\n",
    "sayHello(\"robert\",25)\n",
    "sayHello(\"jenny\",45)\n",
    "sayHello(\"alice\",65)"
   ]
  },
  {
   "cell_type": "code",
   "execution_count": null,
   "metadata": {},
   "outputs": [],
   "source": [
    "#引數值呼叫在前面,引數名稱在後面\n",
    "#使用引數名稱後,後面全部要使引數名稱的呼叫\n",
    "sayHello(\"徐國堂\",age=13)\n",
    "sayHello(\"robert\",age=25)"
   ]
  }
 ],
 "metadata": {
  "kernelspec": {
   "display_name": "Python 3",
   "language": "python",
   "name": "python3"
  },
  "language_info": {
   "codemirror_mode": {
    "name": "ipython",
    "version": 3
   },
   "file_extension": ".py",
   "mimetype": "text/x-python",
   "name": "python",
   "nbconvert_exporter": "python",
   "pygments_lexer": "ipython3",
   "version": "3.10.13"
  }
 },
 "nbformat": 4,
 "nbformat_minor": 2
}
